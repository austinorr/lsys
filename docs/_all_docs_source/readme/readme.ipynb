{
 "cells": [
  {
   "attachments": {},
   "cell_type": "markdown",
   "metadata": {},
   "source": [
    "# `lsys`\n",
    "\n",
    "Create and visualize lindenmayer systems.\n"
   ]
  },
  {
   "attachments": {},
   "cell_type": "markdown",
   "metadata": {},
   "source": [
    "## Getting Started\n",
    "\n",
    "`lsys` is a library for creating Lindenmayer systems inspired by Flake's **The Computational Beauty of Nature**.\n",
    "The graphics in that book are extraordinary, and this little tool helps make similar graphics with matplotlib.\n",
    "\n",
    "From the text, an L-system consists of a special seed, an axiom, from which the fractal growth follows according to certain production rules.\n",
    "For example, if 'F' is move foward and \"+-\" are left and right, we can make the well-known Dragon curve using the following axiom and production rules:\n"
   ]
  },
  {
   "cell_type": "code",
   "execution_count": null,
   "metadata": {
    "execution": {
     "iopub.execute_input": "2022-12-01T19:38:35.460792Z",
     "iopub.status.busy": "2022-12-01T19:38:35.460792Z",
     "iopub.status.idle": "2022-12-01T19:38:36.100461Z",
     "shell.execute_reply": "2022-12-01T19:38:36.100117Z"
    }
   },
   "outputs": [],
   "source": [
    "import matplotlib.pyplot as plt\n",
    "\n",
    "import lsys\n",
    "from lsys import Lsys, Fractal\n",
    "\n",
    "\n",
    "axiom = \"FX\"\n",
    "rule = {\"X\": \"X+YF+\", \"Y\": \"-FX-Y\"}\n",
    "\n",
    "dragon = Lsys(axiom=axiom, rule=rule, ignore=\"XY\")\n",
    "\n",
    "for depth in range(4):\n",
    "    dragon.depth = depth\n",
    "    print(depth, dragon.string)\n"
   ]
  },
  {
   "attachments": {},
   "cell_type": "markdown",
   "metadata": {},
   "source": [
    "Note how the production rules expand on the axiom, expanding it at each depth according to the characters in the string.\n",
    "If we interpret the string as a turtle graphics instruction set and move forward each time we see 'F' and left or right each time we see '-' or '+' we can visualize the curve.\n"
   ]
  },
  {
   "cell_type": "code",
   "execution_count": null,
   "metadata": {
    "execution": {
     "iopub.execute_input": "2022-12-01T19:38:36.113462Z",
     "iopub.status.busy": "2022-12-01T19:38:36.113462Z",
     "iopub.status.idle": "2022-12-01T19:38:36.181242Z",
     "shell.execute_reply": "2022-12-01T19:38:36.181242Z"
    }
   },
   "outputs": [],
   "source": [
    "dragon.depth = 3\n",
    "_ = dragon.plot(lw=5)\n"
   ]
  },
  {
   "cell_type": "code",
   "execution_count": null,
   "metadata": {
    "execution": {
     "iopub.execute_input": "2022-12-01T19:38:36.183337Z",
     "iopub.status.busy": "2022-12-01T19:38:36.183337Z",
     "iopub.status.idle": "2022-12-01T19:38:36.262500Z",
     "shell.execute_reply": "2022-12-01T19:38:36.262500Z"
    }
   },
   "outputs": [],
   "source": [
    "dragon.depth = 12\n",
    "_ = dragon.plot(lw=1)\n"
   ]
  },
  {
   "attachments": {},
   "cell_type": "markdown",
   "metadata": {},
   "source": [
    "The `Lsys` object exposes multiple options for interacting with the results of the L-system expansion, including the xy coordinates, depths of each segment, and even functions for forming bezier curves to transition between vertices of the fractal.\n",
    "This allows for easier visulaization of the path that the fractal takes when the vertices of the expansion start to overlap.\n",
    "For the Dragon curve, this can lead to some satisfying results.\n"
   ]
  },
  {
   "cell_type": "code",
   "execution_count": null,
   "metadata": {
    "execution": {
     "iopub.execute_input": "2022-12-01T19:38:36.264527Z",
     "iopub.status.busy": "2022-12-01T19:38:36.264527Z",
     "iopub.status.idle": "2022-12-01T19:38:36.323221Z",
     "shell.execute_reply": "2022-12-01T19:38:36.323221Z"
    }
   },
   "outputs": [],
   "source": [
    "dragon.depth = 4\n",
    "\n",
    "fig, axes = plt.subplots(1, 2, figsize=(6, 3))\n",
    "\n",
    "_ = dragon.plot(ax=axes[0], lw=5, c=\"k\", square=True)\n",
    "_ = dragon.plot(ax=axes[1], lw=5, square=True, as_bezier=True)\n"
   ]
  },
  {
   "cell_type": "code",
   "execution_count": null,
   "metadata": {
    "execution": {
     "iopub.execute_input": "2022-12-01T19:38:36.325242Z",
     "iopub.status.busy": "2022-12-01T19:38:36.325242Z",
     "iopub.status.idle": "2022-12-01T19:38:36.505794Z",
     "shell.execute_reply": "2022-12-01T19:38:36.505794Z"
    }
   },
   "outputs": [],
   "source": [
    "dragon.depth = 12\n",
    "_ = dragon.plot(lw=1, as_bezier=True)\n"
   ]
  },
  {
   "attachments": {},
   "cell_type": "markdown",
   "metadata": {},
   "source": [
    "It's also possible to use a colormap to show the path.\n",
    "The most efficient way to do this in `matplotlib` uses the `PathCollection` with each segment as a cubic bezier curve.\n",
    "By default, the curves are approximately circular, but the weight of the control points can be adjusted.\n"
   ]
  },
  {
   "cell_type": "code",
   "execution_count": null,
   "metadata": {
    "execution": {
     "iopub.execute_input": "2022-12-01T19:38:36.507846Z",
     "iopub.status.busy": "2022-12-01T19:38:36.507846Z",
     "iopub.status.idle": "2022-12-01T19:38:36.607727Z",
     "shell.execute_reply": "2022-12-01T19:38:36.607727Z"
    }
   },
   "outputs": [],
   "source": [
    "dragon.depth = 4\n",
    "fig, axes = plt.subplots(1, 4, figsize=(12, 5))\n",
    "\n",
    "for ax, weight in zip(axes, [0.3, None, 0.8, 1.5]):\n",
    "    _ = dragon.plot_bezier(ax=ax, bezier_weight=weight, lw=3, square=True)\n"
   ]
  },
  {
   "attachments": {},
   "cell_type": "markdown",
   "metadata": {},
   "source": [
    "The bezier functionality also allows for applying a color map, which is useful for uncovering how the path unfolds, especially for large depths of the fractal\n"
   ]
  },
  {
   "cell_type": "code",
   "execution_count": null,
   "metadata": {
    "execution": {
     "iopub.execute_input": "2022-12-01T19:38:36.609835Z",
     "iopub.status.busy": "2022-12-01T19:38:36.609835Z",
     "iopub.status.idle": "2022-12-01T19:38:36.855055Z",
     "shell.execute_reply": "2022-12-01T19:38:36.853989Z"
    }
   },
   "outputs": [],
   "source": [
    "fig, axes = plt.subplots(1, 2, figsize=(6, 3))\n",
    "\n",
    "for ax, depth in zip(axes, [4, 13]):\n",
    "    dragon.depth = depth\n",
    "    _ = dragon.plot_bezier(ax=ax, lw=1.5, square=True, cmap=\"viridis\")\n"
   ]
  },
  {
   "cell_type": "code",
   "execution_count": null,
   "metadata": {
    "execution": {
     "iopub.execute_input": "2022-12-01T19:38:36.856115Z",
     "iopub.status.busy": "2022-12-01T19:38:36.856115Z",
     "iopub.status.idle": "2022-12-01T19:38:38.417678Z",
     "shell.execute_reply": "2022-12-01T19:38:38.417678Z"
    }
   },
   "outputs": [],
   "source": [
    "hilbert = Lsys(**Fractal[\"Hilbert\"])\n",
    "fig, axes = plt.subplots(1, 2, figsize=(6, 3))\n",
    "\n",
    "for ax, depth in zip(axes, [2, 7]):\n",
    "    hilbert.depth = depth\n",
    "    _ = hilbert.plot_bezier(ax=ax, lw=1, square=True, cmap=\"viridis\")\n"
   ]
  },
  {
   "attachments": {},
   "cell_type": "markdown",
   "metadata": {},
   "source": [
    "The plotting features allow for a fast and deep rendering, as well as a slower rendering algorithm that allows the user to choose the number of bezier segments per segment in the line collection.\n",
    "This feature allows for either high fidelity (many segments) color rendering of the smooth bezier path, or low fidelity\n"
   ]
  },
  {
   "cell_type": "code",
   "execution_count": null,
   "metadata": {
    "execution": {
     "iopub.execute_input": "2022-12-01T19:38:38.419789Z",
     "iopub.status.busy": "2022-12-01T19:38:38.419789Z",
     "iopub.status.idle": "2022-12-01T19:38:38.572081Z",
     "shell.execute_reply": "2022-12-01T19:38:38.571423Z"
    }
   },
   "outputs": [],
   "source": [
    "dragon.depth = 4\n",
    "\n",
    "fig, axes = plt.subplots(1, 5, figsize=(15, 3))\n",
    "\n",
    "# Default renderer for bezier, peak bezier rendering performance for colormapped renderings, noticably\n",
    "# low color fidelity per curve at low fractal depths\n",
    "_ = dragon.plot_bezier(ax=axes[0], lw=10, square=True, cmap=\"magma\")\n",
    "\n",
    "# line collection with custom n-segments, slower rendering due to many lines, customizably\n",
    "# high or low color fidelity per curve\n",
    "_ = dragon.plot_bezier(\n",
    "    ax=axes[1], lw=10, square=True, cmap=\"magma\", segs=10, as_lc=True\n",
    ")\n",
    "_ = dragon.plot_bezier(ax=axes[2], lw=10, square=True, cmap=\"magma\", segs=1, as_lc=True)\n",
    "\n",
    "# High rendering performance, but rendered as single path with a single color.\n",
    "# This is the default render if `segs` is not None and `as_lc` is not set True (default is False)\n",
    "_ = dragon.plot_bezier(ax=axes[3], lw=10, square=True, segs=10, c=\"C2\")\n",
    "_ = dragon.plot_bezier(ax=axes[4], lw=10, square=True, segs=1, c=\"C0\")\n"
   ]
  },
  {
   "attachments": {},
   "cell_type": "markdown",
   "metadata": {},
   "source": [
    "## Exploring Other Fractals\n"
   ]
  },
  {
   "cell_type": "code",
   "execution_count": null,
   "metadata": {
    "execution": {
     "iopub.execute_input": "2022-12-01T19:38:38.574081Z",
     "iopub.status.busy": "2022-12-01T19:38:38.574081Z",
     "iopub.status.idle": "2022-12-01T19:38:38.622555Z",
     "shell.execute_reply": "2022-12-01T19:38:38.622555Z"
    }
   },
   "outputs": [],
   "source": [
    "Serpinski_Maze = {\n",
    "    \"name\": \"Serpinski Maze\",\n",
    "    \"axiom\": \"F\",\n",
    "    \"rule\": \"F=[-G+++F][-G+F][GG--F],G=GG\",\n",
    "    \"da\": 60,\n",
    "    \"a0\": 0,\n",
    "    \"ds\": 0.5,\n",
    "    \"depth\": 4,\n",
    "}\n",
    "\n",
    "_ = Lsys(**Serpinski_Maze).plot()\n"
   ]
  },
  {
   "cell_type": "code",
   "execution_count": null,
   "metadata": {
    "execution": {
     "iopub.execute_input": "2022-12-01T19:38:38.624697Z",
     "iopub.status.busy": "2022-12-01T19:38:38.624697Z",
     "iopub.status.idle": "2022-12-01T19:38:38.642964Z",
     "shell.execute_reply": "2022-12-01T19:38:38.642964Z"
    }
   },
   "outputs": [],
   "source": [
    "def build_computational_beauty_of_nature_plot(lsystem: Lsys, depths=None, **fig_kwargs):\n",
    "\n",
    "    if depths is None:\n",
    "        depths = [0, 1, 4]\n",
    "\n",
    "    assert len(depths) == 3, \"`depths` must be length 3\"\n",
    "\n",
    "    fig_kwargs_default = dict(\n",
    "        figsize=(9, 3.5),\n",
    "        gridspec_kw={\"wspace\": 0, \"hspace\": 0.01, \"height_ratios\": [1, 10]},\n",
    "    )\n",
    "\n",
    "    fig_kwargs_default.update(fig_kwargs)\n",
    "\n",
    "    lsystem.depth = depths[-1]\n",
    "    xlim, ylim = lsys.viz.get_coord_lims(lsystem.coords, pad=5, square=True)\n",
    "\n",
    "    fig, axes = plt.subplot_mosaic([[1, 1, 1], [2, 3, 4]], **fig_kwargs_default)\n",
    "\n",
    "    for i, (l, ax) in enumerate(axes.items()):\n",
    "        ax.set_xticks([])\n",
    "        ax.set_yticks([])\n",
    "\n",
    "    plot_text = (\n",
    "        f\"{lsystem.name}  \"\n",
    "        r\"$\\bf{Angle:}$ \"\n",
    "        f\"{lsystem.da}   \"\n",
    "        r\"$\\bf{Axiom:}$ \"\n",
    "        r\"$\\it{\" + lsystem.axiom + \"}$   \"\n",
    "        r\"$\\bf{Rule(s):}$ \"\n",
    "        r\"$\\it{\" + lsystem.rule + \"}$   \"\n",
    "    )\n",
    "\n",
    "    axes[1].text(\n",
    "        0.01,\n",
    "        0.5,\n",
    "        plot_text,\n",
    "        math_fontfamily=\"dejavuserif\",\n",
    "        fontfamily=\"serif\",\n",
    "        va=\"center\",\n",
    "        size=8,\n",
    "    )\n",
    "\n",
    "    plot_axes = [axes[i] for i in [2, 3, 4]]\n",
    "\n",
    "    for ax, depth in zip(plot_axes, depths):\n",
    "        lsystem.depth = depth\n",
    "        lsystem.plot(ax=ax, lw=0.5, c=\"k\")\n",
    "\n",
    "        ax.set_xlim(xlim)\n",
    "        ax.set_ylim(ylim)\n",
    "        _ = ax.set_aspect(\"equal\")\n",
    "\n",
    "    return fig, axes\n"
   ]
  },
  {
   "cell_type": "code",
   "execution_count": null,
   "metadata": {
    "execution": {
     "iopub.execute_input": "2022-12-01T19:38:38.645068Z",
     "iopub.status.busy": "2022-12-01T19:38:38.645068Z",
     "iopub.status.idle": "2022-12-01T19:38:39.073819Z",
     "shell.execute_reply": "2022-12-01T19:38:39.073819Z"
    }
   },
   "outputs": [],
   "source": [
    "_ = build_computational_beauty_of_nature_plot(\n",
    "    lsystem=Lsys(**Serpinski_Maze),\n",
    "    depths=[0, 1, 7],\n",
    ")\n"
   ]
  },
  {
   "attachments": {},
   "cell_type": "markdown",
   "metadata": {},
   "source": [
    "## Additional Rendering Options\n"
   ]
  },
  {
   "attachments": {},
   "cell_type": "markdown",
   "metadata": {},
   "source": [
    "The `lsys` library has a few rendering helpers, like one to build up custom color maps.\n",
    "Here is one of my favorites:\n"
   ]
  },
  {
   "cell_type": "code",
   "execution_count": null,
   "metadata": {
    "execution": {
     "iopub.execute_input": "2022-12-01T19:38:39.075923Z",
     "iopub.status.busy": "2022-12-01T19:38:39.075923Z",
     "iopub.status.idle": "2022-12-01T19:38:39.114597Z",
     "shell.execute_reply": "2022-12-01T19:38:39.114597Z"
    }
   },
   "outputs": [],
   "source": [
    "dragon.depth = 6\n",
    "cmap = lsys.viz.make_colormap(\n",
    "    [\n",
    "        \"midnightblue\",\n",
    "        \"blue\",\n",
    "        \"cyan\",\n",
    "        \"lawngreen\",\n",
    "        \"yellow\",\n",
    "        \"orange\",\n",
    "        \"red\",\n",
    "        \"firebrick\",\n",
    "    ]\n",
    ")\n",
    "_ = dragon.plot(lw=5, square=True, as_lc=True, cmap=cmap)\n"
   ]
  },
  {
   "attachments": {},
   "cell_type": "markdown",
   "metadata": {},
   "source": [
    "This colormap helper can also assist with non-hideous abuses of colormaps, like when rendering a tree-like fractal.\n"
   ]
  },
  {
   "cell_type": "code",
   "execution_count": null,
   "metadata": {
    "execution": {
     "iopub.execute_input": "2022-12-01T19:38:39.116705Z",
     "iopub.status.busy": "2022-12-01T19:38:39.116705Z",
     "iopub.status.idle": "2022-12-01T19:38:39.135029Z",
     "shell.execute_reply": "2022-12-01T19:38:39.134832Z"
    }
   },
   "outputs": [],
   "source": [
    "Fractal[\"Tree2\"]\n"
   ]
  },
  {
   "cell_type": "code",
   "execution_count": null,
   "metadata": {
    "execution": {
     "iopub.execute_input": "2022-12-01T19:38:39.137136Z",
     "iopub.status.busy": "2022-12-01T19:38:39.137136Z",
     "iopub.status.idle": "2022-12-01T19:38:39.524637Z",
     "shell.execute_reply": "2022-12-01T19:38:39.524637Z"
    }
   },
   "outputs": [],
   "source": [
    "tree = Lsys(**Fractal[\"Tree2\"])\n",
    "tree.depth = 5\n",
    "_ = tree.plot(c=\"k\", lw=0.3)\n"
   ]
  },
  {
   "attachments": {},
   "cell_type": "markdown",
   "metadata": {},
   "source": [
    "We can add some color by creating a colormap that transitions from browns to greens.\n"
   ]
  },
  {
   "cell_type": "code",
   "execution_count": null,
   "metadata": {
    "execution": {
     "iopub.execute_input": "2022-12-01T19:38:39.526749Z",
     "iopub.status.busy": "2022-12-01T19:38:39.526749Z",
     "iopub.status.idle": "2022-12-01T19:38:39.934699Z",
     "shell.execute_reply": "2022-12-01T19:38:39.934699Z"
    }
   },
   "outputs": [],
   "source": [
    "cmap = lsys.viz.make_colormap(\n",
    "    [\"saddlebrown\", \"saddlebrown\", \"sienna\", \"darkgreen\", \"yellowgreen\"]\n",
    ")\n",
    "_ = tree.plot(as_lc=True, cmap=cmap)\n"
   ]
  },
  {
   "attachments": {},
   "cell_type": "markdown",
   "metadata": {},
   "source": [
    "This has rendered each of our line segments in the order that the string expansion of the axiom and rules defined.\n",
    "It's interesting to see when each part of the tree appears in the linear order of the string expansion, but it's not really tree-like and it's not yet 'non-hideous'.\n",
    "We can do better.\n",
    "\n",
    "The `Lsys` objects store an array of the depth of each line segment.\n",
    "This depth changes when the string expansion algorithm encounters a push character (\"[\") or a pop character (\"]\").\n",
    "Not every fractal has push and pop characters, but for those that do, the depth array can be useful for rendering.\n"
   ]
  },
  {
   "cell_type": "code",
   "execution_count": null,
   "metadata": {
    "execution": {
     "iopub.execute_input": "2022-12-01T19:38:39.936802Z",
     "iopub.status.busy": "2022-12-01T19:38:39.936802Z",
     "iopub.status.idle": "2022-12-01T19:38:40.324556Z",
     "shell.execute_reply": "2022-12-01T19:38:40.324556Z"
    }
   },
   "outputs": [],
   "source": [
    "cmap = lsys.viz.make_colormap(\n",
    "    [\"saddlebrown\", \"saddlebrown\", \"sienna\", \"darkgreen\", \"yellowgreen\"]\n",
    ")\n",
    "_ = tree.plot(as_lc=True, array=tree.depths, cmap=cmap)\n"
   ]
  },
  {
   "attachments": {},
   "cell_type": "markdown",
   "metadata": {},
   "source": [
    "This is somewhat closer to the intention.\n",
    "Now the colors are mapped correctly to each segments fractal depth and trunk/stem segments are brown while branch and leaf segments are green.\n",
    "Even still, we can do better.\n",
    "\n",
    "If we render each depth in separate line collections and in order of depth rather than in order of the string expansion, we can improve our tree-like rendering.\n"
   ]
  },
  {
   "cell_type": "code",
   "execution_count": null,
   "metadata": {
    "execution": {
     "iopub.execute_input": "2022-12-01T19:38:40.326665Z",
     "iopub.status.busy": "2022-12-01T19:38:40.326665Z",
     "iopub.status.idle": "2022-12-01T19:38:40.345545Z",
     "shell.execute_reply": "2022-12-01T19:38:40.344970Z"
    }
   },
   "outputs": [],
   "source": [
    "import numpy\n",
    "from matplotlib.collections import LineCollection\n"
   ]
  },
  {
   "cell_type": "code",
   "execution_count": null,
   "metadata": {
    "execution": {
     "iopub.execute_input": "2022-12-01T19:38:40.347547Z",
     "iopub.status.busy": "2022-12-01T19:38:40.347547Z",
     "iopub.status.idle": "2022-12-01T19:38:40.406628Z",
     "shell.execute_reply": "2022-12-01T19:38:40.406628Z"
    }
   },
   "outputs": [],
   "source": [
    "tree = Lsys(**Fractal[\"Tree2\"])\n",
    "\n",
    "for d in range(5):\n",
    "    tree.depth = d\n",
    "    print(set(tree.depths))\n"
   ]
  },
  {
   "attachments": {},
   "cell_type": "markdown",
   "metadata": {},
   "source": [
    "_*Sidenote:*_ The string expansion rules for this fractal nuke the first depth (0th) on the first expansion with the \"|[\" character combo.\n",
    "We'll account for this when we render things.\n"
   ]
  },
  {
   "cell_type": "code",
   "execution_count": null,
   "metadata": {
    "execution": {
     "iopub.execute_input": "2022-12-01T19:38:40.408681Z",
     "iopub.status.busy": "2022-12-01T19:38:40.408681Z",
     "iopub.status.idle": "2022-12-01T19:38:41.171515Z",
     "shell.execute_reply": "2022-12-01T19:38:41.171515Z"
    }
   },
   "outputs": [],
   "source": [
    "tree = Lsys(**Fractal[\"Tree2\"])\n",
    "tree.depth = 5\n",
    "\n",
    "fig, ax = plt.subplots(figsize=(7, 7))\n",
    "cmap = lsys.viz.make_colormap(\n",
    "    [\"saddlebrown\", \"saddlebrown\", \"sienna\", \"darkgreen\", \"yellowgreen\"]\n",
    ")\n",
    "_ = lsys.viz.pretty_format_ax(ax=ax, coords=tree.coords)\n",
    "\n",
    "for depth in range(tree.depth):\n",
    "    # each depth will have a single value for color, lineweight, and alpha.\n",
    "    color = cmap((depth + 1) / tree.depth)\n",
    "    lw = 10 / (depth + 2)\n",
    "    alpha = 0.5 if depth + 2 >= tree.depth else 1\n",
    "\n",
    "    lc = LineCollection(\n",
    "        tree.coords[tree.depths == (depth + 1)],\n",
    "        color=color,\n",
    "        lw=lw,\n",
    "        alpha=alpha,\n",
    "        capstyle=\"round\",\n",
    "    )\n",
    "\n",
    "    ax.add_collection(lc)\n"
   ]
  },
  {
   "attachments": {},
   "cell_type": "markdown",
   "metadata": {},
   "source": [
    "## Rendering Sequences\n",
    "\n",
    "It can be fun to see how each of these fractals evolve, so here are a few examples of watching how the dragon fractal 'winds' itself up.\n"
   ]
  },
  {
   "cell_type": "code",
   "execution_count": null,
   "metadata": {
    "execution": {
     "iopub.execute_input": "2022-12-01T19:38:41.173611Z",
     "iopub.status.busy": "2022-12-01T19:38:41.173611Z",
     "iopub.status.idle": "2022-12-01T19:38:42.050955Z",
     "shell.execute_reply": "2022-12-01T19:38:42.050955Z"
    }
   },
   "outputs": [],
   "source": [
    "d = Lsys(**Fractal[\"Dragon\"])\n",
    "d.a0 = 0\n",
    "depths = range(12)\n",
    "rows = int(numpy.ceil(len(depths) / 4))\n",
    "fig_width = 12\n",
    "fig_height = int(fig_width / 4 * rows)\n",
    "fig, axes = plt.subplots(rows, 4, figsize=(fig_width, fig_height))\n",
    "\n",
    "for ax, depth in zip(axes.flatten(), depths):\n",
    "    d.depth = depth\n",
    "    ax = d.plot_bezier(ax=ax, lw=3, square=True, cmap=\"viridis\", segs=10)\n"
   ]
  },
  {
   "attachments": {},
   "cell_type": "markdown",
   "metadata": {},
   "source": [
    "Sequences like this lend themselves nicely to creating animations.\n",
    "Here's one showing another way this fractal 'winds' in on itself.\n",
    "For this one to work, we've got to do some math to scale each plot and change the start angle for each depth.\n"
   ]
  },
  {
   "cell_type": "code",
   "execution_count": null,
   "metadata": {
    "execution": {
     "iopub.execute_input": "2022-12-01T19:38:42.053006Z",
     "iopub.status.busy": "2022-12-01T19:38:42.053006Z",
     "iopub.status.idle": "2022-12-01T19:38:42.071290Z",
     "shell.execute_reply": "2022-12-01T19:38:42.071290Z"
    }
   },
   "outputs": [],
   "source": [
    "from matplotlib import animation\n",
    "from matplotlib import rc\n",
    "\n",
    "rc(\"animation\", html=\"html5\")\n"
   ]
  },
  {
   "cell_type": "code",
   "execution_count": null,
   "metadata": {
    "execution": {
     "iopub.execute_input": "2022-12-01T19:38:42.073362Z",
     "iopub.status.busy": "2022-12-01T19:38:42.073362Z",
     "iopub.status.idle": "2022-12-01T19:38:42.416857Z",
     "shell.execute_reply": "2022-12-01T19:38:42.416857Z"
    }
   },
   "outputs": [],
   "source": [
    "d = Lsys(**Fractal[\"Dragon\"])\n",
    "# The difference between depth 0 and depth 1 shows where the sqrt(2) comes from\n",
    "# as the line shifts into a right triangle.\n",
    "d.ds = 1 / numpy.sqrt(2)\n",
    "\n",
    "# start with bearing to the right and find all bearings for our depths\n",
    "# by adding 45 deg to the start bearing for each depth\n",
    "d.a0 = 0\n",
    "depths = list(range(12))\n",
    "a0s = [d.a0 + 45 * i for i in depths]\n",
    "\n",
    "fig, ax = plt.subplots(figsize=(6, 6))\n",
    "\n",
    "# set axes lims to enclose the final wound up dragon using a helper function\n",
    "# that takes the coordinates of the fractal.\n",
    "d.depth = depths[-1]\n",
    "d.a0 = a0s[-1]\n",
    "ax = lsys.viz.pretty_format_ax(ax, coords=d.coords, pad=10, square=True)\n",
    "\n",
    "frames = []\n",
    "for i in depths:\n",
    "    d.depth = i\n",
    "    d.a0 = a0s[i]\n",
    "\n",
    "    # helper function makes the bezier paths for us given the fractal\n",
    "    # coordinates and the interior angle to span with the bezier curve.\n",
    "    paths = lsys.viz.construct_bezier_path_collection(\n",
    "        d.coords, angle=d.da, keep_ends=True\n",
    "    )\n",
    "\n",
    "    pc = ax.add_collection(paths)\n",
    "\n",
    "    frames.append([pc])\n",
    "\n",
    "anim = animation.ArtistAnimation(fig, frames, blit=True, interval=500)\n",
    "plt.close()\n"
   ]
  },
  {
   "attachments": {},
   "cell_type": "markdown",
   "metadata": {},
   "source": [
    "![Animated L-System Dragon Sequence](readme_files/Animation.gif)\n"
   ]
  },
  {
   "attachments": {},
   "cell_type": "markdown",
   "metadata": {},
   "source": [
    "## Built-in L-System Fractals\n",
    "\n",
    "Though you may definately define your L-Systems, and are encouraged to do so, there are a number of them provided by `lsys.Fractal` for convenience.\n"
   ]
  },
  {
   "cell_type": "code",
   "execution_count": null,
   "metadata": {
    "execution": {
     "iopub.execute_input": "2022-12-01T19:38:42.418879Z",
     "iopub.status.busy": "2022-12-01T19:38:42.418879Z",
     "iopub.status.idle": "2022-12-01T19:38:46.429075Z",
     "shell.execute_reply": "2022-12-01T19:38:46.429075Z"
    }
   },
   "outputs": [],
   "source": [
    "fractals = sorted(Fractal.keys())\n",
    "rows = len(fractals)\n",
    "fig, axes = plt.subplots(rows, 4, figsize=(12, 3 * rows))\n",
    "depths = [0, 1, 2, 4]\n",
    "\n",
    "for i, fractal in enumerate(fractals):\n",
    "    f = Lsys(**Fractal[fractal])\n",
    "    f.unoise = 0  # This is an exciting paramter that you are encouraged to explore.\n",
    "    for j, (ax, depth) in enumerate(zip(axes[i].flatten(), depths)):\n",
    "        f.depth = depth\n",
    "        ax = f.plot(ax=ax, as_lc=True, color=\"k\", lw=0.5, square=True)\n",
    "        name = f\"{fractal} [depth={depth}]\" if j == 0 else f\"depth={depth}\"\n",
    "        ax.set_title(name)\n"
   ]
  }
 ],
 "metadata": {
  "kernelspec": {
   "display_name": "Python 3 (ipykernel)",
   "language": "python",
   "name": "python3"
  },
  "language_info": {
   "codemirror_mode": {
    "name": "ipython",
    "version": 3
   },
   "file_extension": ".py",
   "mimetype": "text/x-python",
   "name": "python",
   "nbconvert_exporter": "python",
   "pygments_lexer": "ipython3",
   "version": "3.10.8"
  },
  "vscode": {
   "interpreter": {
    "hash": "29d13ce71a7630acfd9ceae7e2756492177a4ab065768ab02b87d6aa9eb6acef"
   }
  }
 },
 "nbformat": 4,
 "nbformat_minor": 2
}
